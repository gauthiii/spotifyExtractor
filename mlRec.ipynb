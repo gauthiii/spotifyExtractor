{
 "cells": [
  {
   "cell_type": "code",
   "execution_count": 16,
   "metadata": {},
   "outputs": [],
   "source": [
    "import pandas as pd\n",
    "from sklearn.preprocessing import MinMaxScaler\n",
    "from sklearn.metrics.pairwise import cosine_similarity\n",
    "\n",
    "# Load the dataset\n",
    "file_path = 'tamil_tracks.csv'\n",
    "music_data = pd.read_csv(file_path)\n",
    "\n",
    "# Selecting relevant features for the recommendation system\n",
    "selected_columns = [\n",
    "    \"energy\",\n",
    "    \"popularity\",\n",
    "    \"danceability\",\n",
    "    \"tempo\",\n",
    "    \"time_signature\",\n",
    "    \"key\"\n",
    "]\n",
    "filtered_data = music_data[selected_columns]\n",
    "\n",
    "\n",
    "\n",
    "\n",
    "\n",
    "\n"
   ]
  },
  {
   "cell_type": "code",
   "execution_count": 17,
   "metadata": {},
   "outputs": [],
   "source": [
    "# Feature scaling (Min-Max Normalization)\n",
    "scaler = MinMaxScaler()\n",
    "scaled_features = scaler.fit_transform(filtered_data)\n",
    "\n"
   ]
  },
  {
   "cell_type": "code",
   "execution_count": 18,
   "metadata": {},
   "outputs": [],
   "source": [
    "\n",
    "# Add scaled features to the dataset for reference\n",
    "music_data[\"scaled_features\"] = list(scaled_features)\n"
   ]
  },
  {
   "cell_type": "code",
   "execution_count": 19,
   "metadata": {},
   "outputs": [],
   "source": [
    "# Define a function to recommend 5 similar songs\n",
    "def recommend_songs(input_song_features, music_data, n_recommendations=20):\n",
    "    # Compute cosine similarity between input song and all others\n",
    "    similarities = cosine_similarity(\n",
    "        [input_song_features], \n",
    "        list(music_data[\"scaled_features\"])\n",
    "    )[0]\n",
    "    \n",
    "    # Add similarity scores to the dataset\n",
    "    music_data[\"similarity\"] = similarities\n",
    "    \n",
    "    # Get top N recommendations excluding the song itself\n",
    "    recommendations = music_data.sort_values(by=\"similarity\", ascending=False).head(n_recommendations + 1)\n",
    "    \n",
    "    # Exclude the input song and return the top N recommended songs\n",
    "    return recommendations.iloc[1:]  # Exclude the input song itself\n"
   ]
  },
  {
   "cell_type": "code",
   "execution_count": 20,
   "metadata": {},
   "outputs": [],
   "source": [
    "# Example: Use one sample song from the dataset\n",
    "sample_song_index = 0  # You can change this to test with other songs\n",
    "sample_song = music_data.iloc[sample_song_index]  # Select a song\n",
    "sample_features = sample_song[\"scaled_features\"]"
   ]
  },
  {
   "cell_type": "code",
   "execution_count": 21,
   "metadata": {},
   "outputs": [],
   "source": [
    "# Get recommendations for the sample song\n",
    "recommended_songs = recommend_songs(sample_features, music_data)\n"
   ]
  },
  {
   "cell_type": "code",
   "execution_count": 22,
   "metadata": {},
   "outputs": [
    {
     "name": "stdout",
     "output_type": "stream",
     "text": [
      "Sample Song:\n",
      "track_name        Leo Das Entry (From \"Leo\")\n",
      "artist_name              Anirudh Ravichander\n",
      "energy                                  0.97\n",
      "popularity                                59\n",
      "danceability                           0.753\n",
      "tempo                                110.997\n",
      "time_signature                           4.0\n",
      "key                                      8.0\n",
      "Name: 0, dtype: object\n",
      "\n",
      "Recommended Songs:\n",
      "                             track_name  \\\n",
      "28912                             Magic   \n",
      "28865                             Magic   \n",
      "29535                  One In A Billion   \n",
      "38539                               Bad   \n",
      "30820                     SAY SOMETHING   \n",
      "15138                            Ghagra   \n",
      "5926                         Dum Masala   \n",
      "54828      I Want You Back - Radio Edit   \n",
      "31271                     Flash Forward   \n",
      "28906                             Magic   \n",
      "29320                  Eternal Sunshine   \n",
      "38560               Bad - 2012 Remaster   \n",
      "32753                    Hello Stranger   \n",
      "54829  Tearin' up My Heart - Radio Edit   \n",
      "29236                                20   \n",
      "43377                         Forgotten   \n",
      "286      Rolex Theme - Background Score   \n",
      "35237                       THRILL RIDE   \n",
      "35498                       GOING CRAZY   \n",
      "35238                          MAVERICK   \n",
      "\n",
      "                                             artist_name  energy  popularity  \\\n",
      "28912                                TOMORROW X TOGETHER   0.880          57   \n",
      "28865                                TOMORROW X TOGETHER   0.852          57   \n",
      "29535                                            ENHYPEN   0.952          62   \n",
      "38539                                    Michael Jackson   0.883          57   \n",
      "30820                                              TWICE   0.841          55   \n",
      "15138             Pritam, Rekha Bhardwaj, Vishal Dadlani   0.919          62   \n",
      "5926   Thaman S, Sanjith Hegde, Saraswati Putra Ramaj...   0.884          59   \n",
      "54828                                             *NSYNC   0.939          65   \n",
      "31271                                        LE SSERAFIM   0.879          63   \n",
      "28906                                TOMORROW X TOGETHER   0.880          62   \n",
      "29320                                              ATEEZ   0.863          55   \n",
      "38560                                    Michael Jackson   0.889          64   \n",
      "32753                                         Stray Kids   0.865          53   \n",
      "54829                                             *NSYNC   0.915          59   \n",
      "29236                                          SEVENTEEN   0.886          54   \n",
      "43377                                        Linkin Park   0.947          62   \n",
      "286                                  Anirudh Ravichander   0.925          61   \n",
      "35237                                           THE BOYZ   0.886          53   \n",
      "35498                                           TREASURE   0.888          56   \n",
      "35238                                           THE BOYZ   0.853          52   \n",
      "\n",
      "       danceability    tempo  time_signature  key  \n",
      "28912         0.681  108.087             4.0  8.0  \n",
      "28865         0.661  108.119             4.0  8.0  \n",
      "29535         0.719  119.957             4.0  8.0  \n",
      "38539         0.807  114.133             4.0  8.0  \n",
      "30820         0.713  105.963             4.0  8.0  \n",
      "15138         0.706  101.940             4.0  8.0  \n",
      "5926          0.779   98.974             4.0  8.0  \n",
      "54828         0.751  112.041             4.0  8.0  \n",
      "31271         0.773  114.949             4.0  8.0  \n",
      "28906         0.654  108.236             4.0  8.0  \n",
      "29320         0.673  110.018             4.0  7.0  \n",
      "38560         0.787  114.091             4.0  8.0  \n",
      "32753         0.706   99.999             4.0  8.0  \n",
      "54829         0.686  110.054             4.0  7.0  \n",
      "29236         0.699  101.989             4.0  7.0  \n",
      "43377         0.615  108.193             4.0  8.0  \n",
      "286           0.610  101.992             4.0  8.0  \n",
      "35237         0.725   97.035             4.0  8.0  \n",
      "35498         0.750  124.997             4.0  8.0  \n",
      "35238         0.728  103.025             4.0  8.0  \n"
     ]
    }
   ],
   "source": [
    "# Display recommended songs\n",
    "print(\"Sample Song:\")\n",
    "print(sample_song[[\"track_name\", \"artist_name\", \"energy\", \"popularity\", \"danceability\", \"tempo\", \"time_signature\" ,\"key\"]])\n",
    "print(\"\\nRecommended Songs:\")\n",
    "print(recommended_songs[[\"track_name\", \"artist_name\", \"energy\", \"popularity\", \"danceability\", \"tempo\", \"time_signature\" ,\"key\"]])"
   ]
  }
 ],
 "metadata": {
  "kernelspec": {
   "display_name": "Python 3",
   "language": "python",
   "name": "python3"
  },
  "language_info": {
   "codemirror_mode": {
    "name": "ipython",
    "version": 3
   },
   "file_extension": ".py",
   "mimetype": "text/x-python",
   "name": "python",
   "nbconvert_exporter": "python",
   "pygments_lexer": "ipython3",
   "version": "3.12.3"
  }
 },
 "nbformat": 4,
 "nbformat_minor": 2
}
