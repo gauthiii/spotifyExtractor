{
 "cells": [
  {
   "cell_type": "code",
   "execution_count": 2,
   "metadata": {},
   "outputs": [],
   "source": [
    "import spotipy\n",
    "from spotipy.oauth2 import SpotifyClientCredentials\n",
    "\n",
    "client_id = 'id'\n",
    "client_secret = 'id'\n",
    "\n",
    "client_credentials_manager = SpotifyClientCredentials(client_id=client_id, client_secret=client_secret)\n",
    "sp = spotipy.Spotify(client_credentials_manager=client_credentials_manager)\n",
    "\n",
    "track_ids = set()  # Set to store album IDs to prevent duplicate processing\n"
   ]
  },
  {
   "cell_type": "code",
   "execution_count": 3,
   "metadata": {},
   "outputs": [
    {
     "name": "stdout",
     "output_type": "stream",
     "text": [
      "Leo Das Entry (From \"Leo\") -- False 97297 https://open.spotify.com/track/2r0ROhr7pRN4MXDMT1fEmd Leo Das Entry (From \"Leo\")\n",
      "AAO KILLELLE -- False 207369 https://open.spotify.com/track/4I38e6Dg52a2o2a8i5Q5PW AAO KILLELLE\n",
      "Mayakiriye Sirikiriye - Orchestral EDM -- False 82550 https://open.spotify.com/track/59NoiRhnom3lTeRFaBzOev Mayakiriye Sirikiriye (Orchestral EDM)\n",
      "Scene Ah Scene Ah - Experimental EDM Mix -- False 115830 https://open.spotify.com/track/5uUqRQd385pvLxC8JX3tXn Scene Ah Scene Ah (Experimental EDM Mix)\n",
      "Gundellonaa X I Am A Disco Dancer - Mashup -- False 129621 https://open.spotify.com/track/1KaBRg2xgNeCljmyxBH1mo Gundellonaa X I Am a Disco Dancer (Mashup)\n",
      "Villain Yevadu Ra (From \"Leo (Telugu)\") -- False 185801 https://open.spotify.com/track/1vpppvz6ihHvKFIaUBy2zf Villain Yevadu Ra [From \"Leo (Telugu)\"]\n",
      "Gundellonaa - Pop Kuthu -- False 74578 https://open.spotify.com/track/6FSIepMOKFf9p4KVQ24676 Gundellonaa (Pop Kuthu)\n",
      "Rathamaarey (LoFi Version) -- False 262784 https://open.spotify.com/track/3OSveGXWccyTLleBeJ2OKq Rathamaarey (LoFi Version)\n",
      "Chaleya Remix -- False 267198 https://open.spotify.com/track/4fFvmbeFV8wb2HOn1x1Ujf Chaleya Remix\n",
      "Knockout Song - Funk Mix -- False 87088 https://open.spotify.com/track/63tA4cYTJATGSqTE0O8Vp4 Knockout Song (Funk Mix)\n",
      "Theeraamal - Ambient Mix -- False 91746 https://open.spotify.com/track/0FEViAIJ0oQuLXTHMAGdEK Theeraamal (Ambient Mix)\n",
      "Nagarathey - Dance Mix -- False 120028 https://open.spotify.com/track/1xnLKfOuOYTOTjNwEtSjbM Nagarathey (Dance Mix)\n",
      "Villain Kaun Hai (From \"Leo (Hindi)\") -- False 185801 https://open.spotify.com/track/7qjOhCEl3pxRjJ2mHnfGrs Villain Kaun Hai [From \"Leo (Hindi)\"]\n",
      "Villain Yaarava (From \"Leo (Kannada)\") -- False 185801 https://open.spotify.com/track/1q9J80snLlKn7Vx3fH2fSk Villain Yaarava [From \"Leo (Kannada)\"]\n",
      "Villain Aarada (From \"Leo (Malayalam)\") -- False 185801 https://open.spotify.com/track/1wDc7bYRH3pKWRosvittt7 Villain Aarada [From \"Leo (Malayalam)\"]\n",
      "Knockout Song - Ambient Lofi -- False 98400 https://open.spotify.com/track/0BBAcsIw7RYLtHFTNJUQFe Knockout Song (Ambient Lofi)\n",
      "Nagarathey - Synthwave Mix -- False 78558 https://open.spotify.com/track/2shaVqKT3kuqjXhXLZ2TpJ Nagarathey (Synthwave Mix)\n",
      "Theeraamal - Ambient Lofi -- False 101454 https://open.spotify.com/track/3RlVXOThaiz2QyDJbWDQf2 Theeraamal (Ambient Lofi)\n",
      "Ezhundhu Vaa (From \"Singappenney\") -- False 240252 https://open.spotify.com/track/2hS6VoXwLOsaGuWqfLEhnK Singappenney (Original Motion Picture Soundtrack)\n",
      "Mainaru Vetti Katti - House Mix -- False 75294 https://open.spotify.com/track/4WsPsaj83s29wrtO2tpzzv Mainaru Vetti Katti (House Mix)\n",
      "Ummunu Irukkanum -- False 229458 https://open.spotify.com/track/5jQ44EewN4GeBXbYSMuqKU Capmaari (Original Motion Picture Soundtrack)\n",
      "Hayyoda (From \"Jawan\") -- False 200142 https://open.spotify.com/track/5eAb205VKEM3ih9tczeHBu Tamil Melody Hits\n",
      "Nagarathey - Ambient Lofi -- False 101338 https://open.spotify.com/track/1LGooxmzSHPA44Q6zTJCkE Nagarathey (Ambient Lofi)\n",
      "Marakkavillayae(Jersey) -- False 237067 https://open.spotify.com/track/5V6biWKcLdnynRznXQcfFr Tamil Romantic Hits\n",
      "Adhento Gaani Vunnapaatuga(Jersey) -- False 237065 https://open.spotify.com/track/34KwJn26xRGfamhNmzP5DV Telugu Romantic Hits\n",
      "Yelo Pullelo -- False 205985 https://open.spotify.com/track/1AcXWxOv26Z0SuoEoUixfq Tamil Dance Hits\n",
      "Vandha Edam (From \"Jawan\") -- False 252800 https://open.spotify.com/track/2Fq1Y8X5dQ35DJObdL8HRJ Vacation Vibes\n",
      "Not Ramaiya Vastavaiya (From \"Jawan\") -- False 202556 https://open.spotify.com/track/35Engc1jiF01hCZ3U5lJPG Vacation Vibes\n",
      "Not Ramaiya Vastavaiya (From \"Jawan\") -- False 202556 https://open.spotify.com/track/2nNdxaWzV7SZTRlVlJ9DxN Tollywood Relaxation Radio\n",
      "Hayyoda (From \"Jawan\") -- False 200142 https://open.spotify.com/track/4q1JSKF0EPXwVm1GP80U0y Moonlit Melodies Valentine's Day Special\n",
      "Not Ramaiya Vastavaiya (From \"Jawan\") -- False 202556 https://open.spotify.com/track/5NLeBVbZQzYsyw4lJjV44L Holi Non Stop Dhamaka Hits\n",
      "Kadhal Psycho (From \"Saaho\") -- False 166372 https://open.spotify.com/track/7BjYqaZQn9Kr6NMy20RKtY Sankranti Special Evergreen Superhit Songs\n",
      "Dhumme Dhulipelaa (From \"Jawan\") -- False 252800 https://open.spotify.com/track/0Ta7doqr5ggK7ejUI6yRO9 Holi Non Stop Dhamaka Hits\n",
      "Vandha Edam (From \"Jawan\") -- False 252800 https://open.spotify.com/track/2aOto0OpJkJrYbUweob0lB 2023 Rewind Hits\n",
      "Hayyoda (From \"Jawan\") -- False 200142 https://open.spotify.com/track/0F1eDZkMHKhGeEMvDq4uu5 Sankranti Special Evergreen Superhit Songs\n",
      "Hayyoda (From \"Jawan\") -- False 200142 https://open.spotify.com/track/5mEOTjoYTQCHhfFXgHOMRK Kollywood Heroin's Special\n",
      "Sanchari (From \"Radhe Shyam\") -- False 268000 https://open.spotify.com/track/0s4WppOva3hpaQoYEgNObn Lyricist Krishna Kanth Birthday Hits\n",
      "Not Ramaiya Vastavaiya (From \"Jawan\") -- False 202556 https://open.spotify.com/track/4TMaJHZPugXuxsMphw0zsb Sankranti Pandem Kollu\n"
     ]
    }
   ],
   "source": [
    "results = sp.search(q='genre:Tamil year:2024 artist:Anirudh', type='track', limit=50, offset=1)\n",
    "for track in results['tracks']['items']:\n",
    "    print(track['name'],\"--\",track['explicit'],track['duration_ms'],track['external_urls']['spotify'], track['album']['name'])\n",
    "\n",
    "\n"
   ]
  },
  {
   "cell_type": "code",
   "execution_count": null,
   "metadata": {},
   "outputs": [],
   "source": [
    "audio_features = sp.audio_features(t['id'])[0]"
   ]
  },
  {
   "cell_type": "code",
   "execution_count": 23,
   "metadata": {},
   "outputs": [
    {
     "name": "stdout",
     "output_type": "stream",
     "text": [
      "CSV file has been updated with  new columns.\n"
     ]
    }
   ],
   "source": [
    "import pandas as pd\n",
    "\n",
    "# Load the CSV file\n",
    "file_path = 'tamil_tracks.csv'  # Update this path if needed\n",
    "data = pd.read_csv(file_path)\n",
    "\n",
    "# Add three new empty columns\n",
    "# data['acousticness'] = None\n",
    "# data['danceability'] = None\n",
    "# data['duration_ms'] = None\n",
    "# data['energy'] = None\n",
    "# data['instrumentalness'] = None\n",
    "# data['key'] = None\n",
    "# data['liveness'] = None\n",
    "# data['loudness'] = None\n",
    "# data['mode'] = None\n",
    "# data['speechiness'] = None\n",
    "# data['tempo'] = None\n",
    "# data['time_signature'] = None\n",
    "# data['valence'] = None\n",
    "# data['track_url'] = None\n",
    "\n",
    "# Save the updated DataFrame back to the same CSV\n",
    "data.to_csv(file_path, index=False)\n",
    "\n",
    "print(\"CSV file has been updated with  new columns.\")\n"
   ]
  }
 ],
 "metadata": {
  "kernelspec": {
   "display_name": "Python 3",
   "language": "python",
   "name": "python3"
  },
  "language_info": {
   "codemirror_mode": {
    "name": "ipython",
    "version": 3
   },
   "file_extension": ".py",
   "mimetype": "text/x-python",
   "name": "python",
   "nbconvert_exporter": "python",
   "pygments_lexer": "ipython3",
   "version": "3.11.5"
  }
 },
 "nbformat": 4,
 "nbformat_minor": 2
}
